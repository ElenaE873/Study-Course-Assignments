{
 "cells": [
  {
   "cell_type": "markdown",
   "id": "34519a85",
   "metadata": {},
   "source": [
    "How to stream real-time Twitter data, to analyze and visualize it."
   ]
  },
  {
   "cell_type": "markdown",
   "id": "ebb54d4a",
   "metadata": {},
   "source": [
    "In order to access the Twitter API, you must have a Twitter Account."
   ]
  },
  {
   "cell_type": "markdown",
   "id": "c43a6de0",
   "metadata": {},
   "source": [
    "1. Under \"Keys and Acccess Tokens\", copy:\n",
    "- API Key\n",
    "- API Secret\n",
    "- Access Token\n",
    "- Access Token Secret"
   ]
  },
  {
   "cell_type": "markdown",
   "id": "8d608dd5",
   "metadata": {},
   "source": [
    "These are the required authentication credentials that will allow you to access twitter from python."
   ]
  },
  {
   "cell_type": "markdown",
   "id": "9592f4c4",
   "metadata": {},
   "source": [
    "2.  Twitter has several APIS\n",
    "- Rest APIs: \n",
    "    - Rest is short for: Representational State Transfer\n",
    "    - Allows twitter user to read and write twitter data\n",
    "- Streaming API:\n",
    "    - the public stream: \"Streams of the public data flowing through Twitter\""
   ]
  },
  {
   "cell_type": "markdown",
   "id": "1ae3efd7",
   "metadata": {},
   "source": [
    "3. the GET statuses/sample API\n",
    "- returns random sampl of all public statuses"
   ]
  },
  {
   "cell_type": "markdown",
   "id": "b2b0c5f1",
   "metadata": {},
   "source": [
    "4. In order to get ALL of Twitter's Public statuses - Firehose API\n",
    "- Not publicly available and comes at a cost "
   ]
  },
  {
   "cell_type": "markdown",
   "id": "ae04391a",
   "metadata": {},
   "source": [
    "5. Tweets are returned as JSONs\n",
    "- contain a numerous possible fields (can check the Twitter Guide)"
   ]
  },
  {
   "cell_type": "markdown",
   "id": "2ac390e2",
   "metadata": {},
   "source": [
    "##### tweepy package"
   ]
  },
  {
   "cell_type": "code",
   "execution_count": null,
   "id": "fd1a0762",
   "metadata": {},
   "outputs": [],
   "source": [
    "import tweepy, json\n",
    "\n",
    "access_token = \"...\"\n",
    "acsess_token_secret = \"...\"\n",
    "consumer_key = \"...\"\n",
    "consumer_secret = \"...\"\n",
    "\n",
    "auth = tweepy.OAuthHandler(consumer_key, consumer_secret)\n",
    "\n",
    "auth.set_access_token(access_token, access_token_secret)"
   ]
  },
  {
   "cell_type": "code",
   "execution_count": null,
   "id": "c430f340",
   "metadata": {},
   "outputs": [],
   "source": [
    "class MyStreamListener(tweepy.StreamListener):\n",
    "    def __init__(self, api=None):\n",
    "        super(MyStreamListener, self).__init__()\n",
    "        self.num_tweets = 0\n",
    "        self.title = open(\"tweets.txt\", \"w\")\n",
    "    def on_status(self, status):\n",
    "        tweet = status._json\n",
    "        self.file.write(json.dumps(tweet) + '\\\\n')\n",
    "        tweet_list.append(status)\n",
    "        self.num_tweets += 1\n",
    "        if self.num_tweets < 100:\n",
    "            return True\n",
    "        else:\n",
    "            return False\n",
    "        self.file.close()"
   ]
  },
  {
   "cell_type": "code",
   "execution_count": null,
   "id": "27eb223c",
   "metadata": {},
   "outputs": [],
   "source": [
    "#Streaming object and authentication\n",
    "l = MyStreamListener()\n",
    "stream = tweepy.Stream(auth, l)\n",
    "\n",
    "#filtering Twitter Streams to capture data by keywords:\n",
    "stream.filter(track=['apples', 'oranges'])"
   ]
  }
 ],
 "metadata": {
  "kernelspec": {
   "display_name": "Python 3 (ipykernel)",
   "language": "python",
   "name": "python3"
  },
  "language_info": {
   "codemirror_mode": {
    "name": "ipython",
    "version": 3
   },
   "file_extension": ".py",
   "mimetype": "text/x-python",
   "name": "python",
   "nbconvert_exporter": "python",
   "pygments_lexer": "ipython3",
   "version": "3.9.7"
  }
 },
 "nbformat": 4,
 "nbformat_minor": 5
}
